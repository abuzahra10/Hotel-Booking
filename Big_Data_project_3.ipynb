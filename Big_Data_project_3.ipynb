{
  "nbformat": 4,
  "nbformat_minor": 0,
  "metadata": {
    "colab": {
      "provenance": [],
      "collapsed_sections": [
        "B3E9BUou2pb4",
        "Frvn_iQ-ysRD",
        "ysbPq4lSyqDm"
      ],
      "gpuType": "T4"
    },
    "kernelspec": {
      "name": "python3",
      "display_name": "Python 3"
    },
    "language_info": {
      "name": "python"
    },
    "accelerator": "GPU"
  },
  "cells": [
    {
      "cell_type": "code",
      "execution_count": null,
      "metadata": {
        "id": "8pTcQGEbMohQ"
      },
      "outputs": [],
      "source": [
        "from pyspark.sql import SparkSession\n",
        "from pyspark.sql.functions import col\n",
        "from pyspark.sql.functions import unix_timestamp\n",
        "from pyspark.sql.functions import coalesce, lit\n",
        "from pyspark.sql.functions import hour, when\n",
        "from pyspark.ml.feature import VectorAssembler\n",
        "from pyspark.ml.classification import LogisticRegression\n",
        "from pyspark.ml.classification import DecisionTreeClassifier\n",
        "from pyspark.ml.classification import RandomForestClassifier\n",
        "from pyspark.ml.evaluation import BinaryClassificationEvaluator\n",
        "from pyspark.sql.functions import col, unix_timestamp, when, coalesce, hour, to_timestamp"
      ]
    },
    {
      "cell_type": "markdown",
      "source": [
        "##Data Cleaning & Engineering:"
      ],
      "metadata": {
        "id": "B3E9BUou2pb4"
      }
    },
    {
      "cell_type": "code",
      "source": [
        "spark = SparkSession.builder \\\n",
        "    .appName(\"NYC Taxi Project\") \\\n",
        "    .getOrCreate()\n",
        "\n",
        "# Adjust paths if needed\n",
        "trip_df = spark.read.csv(\"/content/taxi_trip_data.csv\", header=True, inferSchema=True)\n",
        "zone_df = spark.read.csv(\"/content/taxi_zone_geo.csv\", header=True, inferSchema=True)"
      ],
      "metadata": {
        "id": "BMfk6qiQnJ61"
      },
      "execution_count": null,
      "outputs": []
    },
    {
      "cell_type": "code",
      "source": [
        "trip_df.printSchema()\n",
        "trip_df.show(5)\n",
        "\n",
        "zone_df.printSchema()\n",
        "zone_df.show(5)\n"
      ],
      "metadata": {
        "colab": {
          "base_uri": "https://localhost:8080/"
        },
        "collapsed": true,
        "id": "ONpWciyWnM-e",
        "outputId": "1aab9448-d77c-44cc-998d-ebd9a8432ff0"
      },
      "execution_count": null,
      "outputs": [
        {
          "output_type": "stream",
          "name": "stdout",
          "text": [
            "root\n",
            " |-- vendor_id: integer (nullable = true)\n",
            " |-- pickup_datetime: string (nullable = true)\n",
            " |-- dropoff_datetime: string (nullable = true)\n",
            " |-- passenger_count: integer (nullable = true)\n",
            " |-- trip_distance: double (nullable = true)\n",
            " |-- rate_code: integer (nullable = true)\n",
            " |-- store_and_fwd_flag: string (nullable = true)\n",
            " |-- payment_type: integer (nullable = true)\n",
            " |-- fare_amount: double (nullable = true)\n",
            " |-- extra: double (nullable = true)\n",
            " |-- mta_tax: double (nullable = true)\n",
            " |-- tip_amount: double (nullable = true)\n",
            " |-- tolls_amount: double (nullable = true)\n",
            " |-- imp_surcharge: double (nullable = true)\n",
            " |-- pickup_location_id: integer (nullable = true)\n",
            " |-- dropoff_location_id: integer (nullable = true)\n",
            "\n",
            "+---------+----------------+----------------+---------------+-------------+---------+------------------+------------+-----------+-----+-------+----------+------------+-------------+------------------+-------------------+\n",
            "|vendor_id| pickup_datetime|dropoff_datetime|passenger_count|trip_distance|rate_code|store_and_fwd_flag|payment_type|fare_amount|extra|mta_tax|tip_amount|tolls_amount|imp_surcharge|pickup_location_id|dropoff_location_id|\n",
            "+---------+----------------+----------------+---------------+-------------+---------+------------------+------------+-----------+-----+-------+----------+------------+-------------+------------------+-------------------+\n",
            "|        1| 5/11/2018 17:40| 5/11/2018 17:55|              1|          1.6|        1|                 N|           1|       11.5|  1.0|    0.5|       0.0|         0.0|          0.3|                48|                 68|\n",
            "|        2| 3/22/2018 23:01| 3/22/2018 23:25|              1|         9.52|        1|                 N|           1|       28.5|  0.5|    0.5|      5.96|         0.0|          0.3|               138|                230|\n",
            "|        2|  7/24/2018 9:58| 7/24/2018 10:22|              1|         2.17|        1|                 N|           1|       15.5|  0.0|    0.5|       1.5|         0.0|          0.3|               234|                 48|\n",
            "|        2|12/21/2018 18:28|12/21/2018 18:35|              1|         0.86|        1|                 N|           2|        6.0|  1.0|    0.5|       0.0|         0.0|          0.3|                79|                125|\n",
            "|        1| 8/15/2018 13:58| 8/15/2018 14:05|              1|          0.3|        1|                 N|           2|        5.5|  0.0|    0.5|       0.0|         0.0|          0.3|               233|                233|\n",
            "+---------+----------------+----------------+---------------+-------------+---------+------------------+------------+-----------+-----+-------+----------+------------+-------------+------------------+-------------------+\n",
            "only showing top 5 rows\n",
            "\n",
            "root\n",
            " |-- zone_id: integer (nullable = true)\n",
            " |-- zone_name: string (nullable = true)\n",
            " |-- borough: string (nullable = true)\n",
            " |-- zone_geom: string (nullable = true)\n",
            "\n",
            "+-------+--------------------+-------+--------------------+\n",
            "|zone_id|           zone_name|borough|           zone_geom|\n",
            "+-------+--------------------+-------+--------------------+\n",
            "|      1|      Newark Airport|    EWR|POLYGON((-74.1856...|\n",
            "|      3|Allerton/Pelham G...|  Bronx|POLYGON((-73.8485...|\n",
            "|     18|        Bedford Park|  Bronx|POLYGON((-73.8844...|\n",
            "|     20|             Belmont|  Bronx|POLYGON((-73.8839...|\n",
            "|     31|          Bronx Park|  Bronx|POLYGON((-73.8710...|\n",
            "+-------+--------------------+-------+--------------------+\n",
            "only showing top 5 rows\n",
            "\n"
          ]
        }
      ]
    },
    {
      "cell_type": "code",
      "source": [
        "trip_df = trip_df.withColumn(\"pickup_datetime\", to_timestamp(\"pickup_datetime\", \"M/d/yyyy H:mm\")) \\\n",
        "                 .withColumn(\"dropoff_datetime\", to_timestamp(\"dropoff_datetime\", \"M/d/yyyy H:mm\"))\n",
        "\n",
        "# Drop rows with essential nulls and invalid data\n",
        "trip_df = trip_df.dropna(subset=[\"pickup_datetime\", \"dropoff_datetime\", \"fare_amount\", \"trip_distance\", \"tip_amount\"])\n",
        "trip_df = trip_df.filter((col(\"fare_amount\") > 0) & (col(\"trip_distance\") > 0))\n",
        "trip_df = trip_df.dropDuplicates()"
      ],
      "metadata": {
        "id": "ioDeznTAnfe6"
      },
      "execution_count": null,
      "outputs": []
    },
    {
      "cell_type": "code",
      "source": [
        "trip_df = trip_df.withColumn(\"trip_duration_minutes\",\n",
        "    (unix_timestamp(\"dropoff_datetime\") - unix_timestamp(\"pickup_datetime\")) / 60)\n",
        "\n",
        "trip_df = trip_df.withColumn(\"total_trip_cost\",\n",
        "    coalesce(col(\"fare_amount\"), lit(0)) +\n",
        "    coalesce(col(\"extra\"), lit(0)) +\n",
        "    coalesce(col(\"mta_tax\"), lit(0)) +\n",
        "    coalesce(col(\"tip_amount\"), lit(0)) +\n",
        "    coalesce(col(\"tolls_amount\"), lit(0)) +\n",
        "    coalesce(col(\"imp_surcharge\"), lit(0))\n",
        ")"
      ],
      "metadata": {
        "id": "sDY9W3MZnkoA"
      },
      "execution_count": null,
      "outputs": []
    },
    {
      "cell_type": "code",
      "source": [
        "trip_df = trip_df.withColumn(\"pickup_hour\", hour(\"pickup_datetime\"))\n",
        "\n",
        "trip_df = trip_df.withColumn(\"time_of_day\",\n",
        "    when((col(\"pickup_hour\") >= 6) & (col(\"pickup_hour\") < 12), \"Morning\")\n",
        "    .when((col(\"pickup_hour\") >= 12) & (col(\"pickup_hour\") < 18), \"Afternoon\")\n",
        "    .when((col(\"pickup_hour\") >= 18) & (col(\"pickup_hour\") < 24), \"Evening\")\n",
        "    .otherwise(\"Night\"))"
      ],
      "metadata": {
        "id": "k0JtR1RAvkkp"
      },
      "execution_count": null,
      "outputs": []
    },
    {
      "cell_type": "code",
      "source": [
        "# Rename zone_df for pickup and dropoff joins\n",
        "pickup_zones = zone_df.withColumnRenamed(\"zone_id\", \"pickup_location_id\") \\\n",
        "                      .withColumnRenamed(\"zone_name\", \"pickup_zone\") \\\n",
        "                      .withColumnRenamed(\"borough\", \"pickup_borough\")\n",
        "\n",
        "dropoff_zones = zone_df.withColumnRenamed(\"zone_id\", \"dropoff_location_id\") \\\n",
        "                       .withColumnRenamed(\"zone_name\", \"dropoff_zone\") \\\n",
        "                       .withColumnRenamed(\"borough\", \"dropoff_borough\")\n",
        "\n",
        "# Join both\n",
        "trip_df = trip_df.join(pickup_zones, on=\"pickup_location_id\", how=\"left\") \\\n",
        "                 .join(dropoff_zones, on=\"dropoff_location_id\", how=\"left\")"
      ],
      "metadata": {
        "id": "318OQYlCnntP"
      },
      "execution_count": null,
      "outputs": []
    },
    {
      "cell_type": "markdown",
      "source": [
        "##Analytical Queries:"
      ],
      "metadata": {
        "id": "Frvn_iQ-ysRD"
      }
    },
    {
      "cell_type": "code",
      "source": [
        "trip_df.groupBy(\"time_of_day\", \"payment_type\") \\\n",
        "       .count().orderBy(\"time_of_day\", \"count\", ascending=False).show()"
      ],
      "metadata": {
        "colab": {
          "base_uri": "https://localhost:8080/"
        },
        "id": "WUPqHxGtuafJ",
        "outputId": "52b2e05a-3618-4653-e5db-4a89d3c10fcc"
      },
      "execution_count": null,
      "outputs": [
        {
          "output_type": "stream",
          "name": "stdout",
          "text": [
            "+-----------+------------+------+\n",
            "|time_of_day|payment_type| count|\n",
            "+-----------+------------+------+\n",
            "|      Night|           1| 68887|\n",
            "|      Night|           2| 32040|\n",
            "|      Night|           3|   684|\n",
            "|      Night|           4|   191|\n",
            "|    Morning|           1|181506|\n",
            "|    Morning|           2| 75130|\n",
            "|    Morning|           3|   796|\n",
            "|    Morning|           4|   271|\n",
            "|    Evening|           1|250964|\n",
            "|    Evening|           2| 95029|\n",
            "|    Evening|           3|  1282|\n",
            "|    Evening|           4|   319|\n",
            "|  Afternoon|           1|222548|\n",
            "|  Afternoon|           2|108830|\n",
            "|  Afternoon|           3|  1346|\n",
            "|  Afternoon|           4|   404|\n",
            "+-----------+------------+------+\n",
            "\n"
          ]
        }
      ]
    },
    {
      "cell_type": "code",
      "source": [
        "trip_df.groupBy(\"pickup_borough\") \\\n",
        "       .agg({\"total_trip_cost\": \"sum\", \"*\": \"count\"}) \\\n",
        "       .withColumnRenamed(\"sum(total_trip_cost)\", \"total_revenue\") \\\n",
        "       .withColumnRenamed(\"count(1)\", \"trip_count\") \\\n",
        "       .orderBy(\"total_revenue\", ascending=False) \\\n",
        "       .show()\n"
      ],
      "metadata": {
        "colab": {
          "base_uri": "https://localhost:8080/"
        },
        "id": "l9p5gArVucNp",
        "outputId": "b0497e31-2d19-45f2-be2c-423ec136d227"
      },
      "execution_count": null,
      "outputs": [
        {
          "output_type": "stream",
          "name": "stdout",
          "text": [
            "+--------------+----------+--------------------+\n",
            "|pickup_borough|trip_count|       total_revenue|\n",
            "+--------------+----------+--------------------+\n",
            "|     Manhattan|    944995|1.3447441029941741E7|\n",
            "|        Queens|     65224|   2937811.430001083|\n",
            "|          NULL|     15837|   263706.2800000149|\n",
            "|      Brooklyn|     12979|  238826.83000001457|\n",
            "|         Bronx|      1152|  29699.299999999777|\n",
            "|           EWR|        23|             1811.37|\n",
            "| Staten Island|        17|              807.04|\n",
            "+--------------+----------+--------------------+\n",
            "\n"
          ]
        }
      ]
    },
    {
      "cell_type": "code",
      "source": [
        "trip_df.groupBy(\"passenger_count\") \\\n",
        "       .avg(\"tip_amount\") \\\n",
        "       .withColumnRenamed(\"avg(tip_amount)\", \"avg_tip\") \\\n",
        "       .orderBy(\"passenger_count\") \\\n",
        "       .show()"
      ],
      "metadata": {
        "colab": {
          "base_uri": "https://localhost:8080/"
        },
        "id": "XXo5i1R2ueP2",
        "outputId": "a0978e1a-4016-4447-efc9-1a4f392e47f6"
      },
      "execution_count": null,
      "outputs": [
        {
          "output_type": "stream",
          "name": "stdout",
          "text": [
            "+---------------+------------------+\n",
            "|passenger_count|           avg_tip|\n",
            "+---------------+------------------+\n",
            "|              0|1.9129191001514152|\n",
            "|              1|1.8702055254833465|\n",
            "|              2|1.8625866752402052|\n",
            "|              3| 1.834265957936398|\n",
            "|              4|1.7031647053078713|\n",
            "|              5| 1.876816759942987|\n",
            "|              6|1.8648239812246603|\n",
            "|              9|              0.98|\n",
            "+---------------+------------------+\n",
            "\n"
          ]
        }
      ]
    },
    {
      "cell_type": "code",
      "source": [
        "trip_df.groupBy(\"pickup_zone\", \"time_of_day\") \\\n",
        "       .count().orderBy(\"count\", ascending=False).show(5)\n"
      ],
      "metadata": {
        "colab": {
          "base_uri": "https://localhost:8080/"
        },
        "id": "Ut_I1F_SufzC",
        "outputId": "c77909eb-91a5-4456-d0ec-d3ca76b714e6"
      },
      "execution_count": null,
      "outputs": [
        {
          "output_type": "stream",
          "name": "stdout",
          "text": [
            "+--------------------+-----------+-----+\n",
            "|         pickup_zone|time_of_day|count|\n",
            "+--------------------+-----------+-----+\n",
            "|Upper East Side S...|  Afternoon|17264|\n",
            "|Upper East Side N...|  Afternoon|15991|\n",
            "|      Midtown Center|    Evening|14938|\n",
            "|      Midtown Center|  Afternoon|14661|\n",
            "|Times Sq/Theatre ...|    Evening|14255|\n",
            "+--------------------+-----------+-----+\n",
            "only showing top 5 rows\n",
            "\n"
          ]
        }
      ]
    },
    {
      "cell_type": "code",
      "source": [
        "trip_df.select(\"trip_duration_minutes\", \"fare_amount\",\n",
        "               \"pickup_zone\", \"dropoff_zone\", \"payment_type\") \\\n",
        "       .orderBy(\"trip_duration_minutes\", ascending=False).show(5)\n"
      ],
      "metadata": {
        "colab": {
          "base_uri": "https://localhost:8080/"
        },
        "id": "EfSVS_qMuhrx",
        "outputId": "2d0990de-9ab1-4ab3-85e7-98fa94436a43"
      },
      "execution_count": null,
      "outputs": [
        {
          "output_type": "stream",
          "name": "stdout",
          "text": [
            "+---------------------+-----------+--------------------+--------------------+------------+\n",
            "|trip_duration_minutes|fare_amount|         pickup_zone|        dropoff_zone|payment_type|\n",
            "+---------------------+-----------+--------------------+--------------------+------------+\n",
            "|               1440.0|       12.0|   Battery Park City|Meatpacking/West ...|           1|\n",
            "|               1440.0|        6.0|            Union Sq|        East Village|           1|\n",
            "|               1440.0|       12.0|            Gramercy|     Lower East Side|           1|\n",
            "|               1440.0|       28.5|Times Sq/Theatre ...|              Inwood|           2|\n",
            "|               1440.0|       15.5|Upper East Side N...|            Gramercy|           1|\n",
            "+---------------------+-----------+--------------------+--------------------+------------+\n",
            "only showing top 5 rows\n",
            "\n"
          ]
        }
      ]
    },
    {
      "cell_type": "code",
      "source": [
        "trip_df.groupBy(\"pickup_borough\", \"dropoff_borough\") \\\n",
        "       .count().orderBy(\"count\", ascending=False).show(10)\n"
      ],
      "metadata": {
        "colab": {
          "base_uri": "https://localhost:8080/"
        },
        "id": "dxvAtHfyui5v",
        "outputId": "1d5d0e66-8ee2-418d-e251-11a928fcaa21"
      },
      "execution_count": null,
      "outputs": [
        {
          "output_type": "stream",
          "name": "stdout",
          "text": [
            "+--------------+---------------+------+\n",
            "|pickup_borough|dropoff_borough| count|\n",
            "+--------------+---------------+------+\n",
            "|     Manhattan|      Manhattan|877706|\n",
            "|        Queens|      Manhattan| 38059|\n",
            "|     Manhattan|         Queens| 32177|\n",
            "|     Manhattan|       Brooklyn| 26998|\n",
            "|        Queens|         Queens| 15872|\n",
            "|          NULL|           NULL| 13561|\n",
            "|        Queens|       Brooklyn|  8954|\n",
            "|      Brooklyn|       Brooklyn|  8185|\n",
            "|     Manhattan|          Bronx|  4836|\n",
            "|      Brooklyn|      Manhattan|  3842|\n",
            "+--------------+---------------+------+\n",
            "only showing top 10 rows\n",
            "\n"
          ]
        }
      ]
    },
    {
      "cell_type": "markdown",
      "source": [
        "##SparkML Task: Trip Profiling: Predict Likelihood of High Tipping"
      ],
      "metadata": {
        "id": "ysbPq4lSyqDm"
      }
    },
    {
      "cell_type": "code",
      "source": [
        "trip_df = trip_df.withColumn(\"high_tip\",\n",
        "    when(col(\"tip_amount\") > 0.15 * col(\"fare_amount\"), 1).otherwise(0))"
      ],
      "metadata": {
        "id": "JIcVMZi5ukRO"
      },
      "execution_count": null,
      "outputs": []
    },
    {
      "cell_type": "code",
      "source": [
        "from pyspark.sql.functions import dayofweek, hour\n",
        "\n",
        "trip_df = trip_df \\\n",
        "    .withColumn(\"fare_per_mile\", col(\"fare_amount\") / col(\"trip_distance\")) \\\n",
        "    .withColumn(\"pickup_hour\", hour(\"pickup_datetime\"))\n"
      ],
      "metadata": {
        "id": "lcBLZuFPumCO"
      },
      "execution_count": null,
      "outputs": []
    },
    {
      "cell_type": "code",
      "source": [
        "from pyspark.ml.feature import StringIndexer\n",
        "\n",
        "# Define time_of_day first\n",
        "trip_df = trip_df.withColumn(\"time_of_day\",\n",
        "    when((col(\"pickup_hour\") >= 6) & (col(\"pickup_hour\") < 12), \"Morning\")\n",
        "    .when((col(\"pickup_hour\") >= 12) & (col(\"pickup_hour\") < 18), \"Afternoon\")\n",
        "    .when((col(\"pickup_hour\") >= 18) & (col(\"pickup_hour\") < 24), \"Evening\")\n",
        "    .otherwise(\"Night\"))\n",
        "\n",
        "# Index categorical features\n",
        "borough_indexer = StringIndexer(inputCol=\"pickup_borough\", outputCol=\"pickup_borough_index\", handleInvalid='keep')\n",
        "time_indexer = StringIndexer(inputCol=\"time_of_day\", outputCol=\"time_of_day_index\", handleInvalid='keep')\n",
        "\n",
        "trip_df = trip_df.drop(\"pickup_borough_index\", \"time_of_day_index\")\n",
        "trip_df = borough_indexer.fit(trip_df).transform(trip_df)\n",
        "trip_df = time_indexer.fit(trip_df).transform(trip_df)"
      ],
      "metadata": {
        "id": "um0h5-cl9u5k"
      },
      "execution_count": null,
      "outputs": []
    },
    {
      "cell_type": "code",
      "source": [
        "from pyspark.ml.feature import VectorAssembler\n",
        "\n",
        "selected_features = [\n",
        "    \"passenger_count\", \"trip_distance\", \"trip_duration_minutes\",\n",
        "    \"pickup_hour\", \"fare_amount\", \"fare_per_mile\",\n",
        "    \"pickup_borough_index\", \"time_of_day_index\"\n",
        "]\n",
        "\n",
        "assembler = VectorAssembler(inputCols=selected_features, outputCol=\"features\")\n",
        "assembled_df = assembler.transform(trip_df.select(*selected_features, \"high_tip\").dropna())\n"
      ],
      "metadata": {
        "id": "zxZ-_dWn98sL"
      },
      "execution_count": null,
      "outputs": []
    },
    {
      "cell_type": "code",
      "source": [
        "from pyspark.ml.feature import MinMaxScaler\n",
        "\n",
        "scaler = MinMaxScaler(inputCol=\"features\", outputCol=\"scaled_features\")\n",
        "scaler_model = scaler.fit(assembled_df)\n",
        "scaled_df = scaler_model.transform(assembled_df)"
      ],
      "metadata": {
        "id": "UFAJFgAr-CRu"
      },
      "execution_count": null,
      "outputs": []
    },
    {
      "cell_type": "code",
      "source": [
        "assembler = VectorAssembler(inputCols=selected_features, outputCol=\"features\")\n",
        "assembled_df = assembler.transform(trip_df.select(*selected_features, \"high_tip\").dropna())"
      ],
      "metadata": {
        "id": "9gjfhhLg-FWH"
      },
      "execution_count": null,
      "outputs": []
    },
    {
      "cell_type": "code",
      "source": [
        "from pyspark.ml.feature import MinMaxScaler\n",
        "\n",
        "scaler = MinMaxScaler(inputCol=\"features\", outputCol=\"scaled_features\")\n",
        "scaler_model = scaler.fit(assembled_df)\n",
        "scaled_df = scaler_model.transform(assembled_df)"
      ],
      "metadata": {
        "id": "2q4zsNRG-I5i"
      },
      "execution_count": null,
      "outputs": []
    },
    {
      "cell_type": "code",
      "source": [
        "train_data, test_data = scaled_df.randomSplit([0.8, 0.2], seed=42)\n"
      ],
      "metadata": {
        "id": "_wdjxdqH-KJu"
      },
      "execution_count": null,
      "outputs": []
    },
    {
      "cell_type": "code",
      "source": [
        "from pyspark.ml.classification import LogisticRegression, DecisionTreeClassifier, RandomForestClassifier\n",
        "\n",
        "# Logistic Regression\n",
        "lr = LogisticRegression(labelCol=\"high_tip\", featuresCol=\"scaled_features\", maxIter=20)\n",
        "lr_model = lr.fit(train_data)\n",
        "\n",
        "# Decision Tree\n",
        "dt = DecisionTreeClassifier(labelCol=\"high_tip\", featuresCol=\"scaled_features\")\n",
        "dt_model = dt.fit(train_data)\n",
        "\n",
        "# Random Forest\n",
        "rf = RandomForestClassifier(labelCol=\"high_tip\", featuresCol=\"scaled_features\", numTrees=50)\n",
        "rf_model = rf.fit(train_data)\n"
      ],
      "metadata": {
        "id": "GgqL6acfGxUj"
      },
      "execution_count": null,
      "outputs": []
    },
    {
      "cell_type": "code",
      "source": [
        "from pyspark.ml.evaluation import BinaryClassificationEvaluator, MulticlassClassificationEvaluator\n",
        "\n",
        "# Predictions\n",
        "lr_predictions = lr_model.transform(test_data)\n",
        "dt_predictions = dt_model.transform(test_data)\n",
        "rf_predictions = rf_model.transform(test_data)\n",
        "\n",
        "# AUC evaluator\n",
        "auc_evaluator = BinaryClassificationEvaluator(labelCol=\"high_tip\", rawPredictionCol=\"rawPrediction\")\n",
        "\n",
        "# Other metrics evaluator\n",
        "f1_evaluator = MulticlassClassificationEvaluator(labelCol=\"high_tip\", predictionCol=\"prediction\", metricName=\"f1\")\n",
        "accuracy_evaluator = MulticlassClassificationEvaluator(labelCol=\"high_tip\", predictionCol=\"prediction\", metricName=\"accuracy\")\n",
        "precision_evaluator = MulticlassClassificationEvaluator(labelCol=\"high_tip\", predictionCol=\"prediction\", metricName=\"weightedPrecision\")\n",
        "\n",
        "# Logistic Regression metrics\n",
        "lr_auc = auc_evaluator.evaluate(lr_predictions)\n",
        "lr_f1 = f1_evaluator.evaluate(lr_predictions)\n",
        "lr_acc = accuracy_evaluator.evaluate(lr_predictions)\n",
        "lr_precision = precision_evaluator.evaluate(lr_predictions)\n",
        "\n",
        "# Decision Tree metrics\n",
        "dt_auc = auc_evaluator.evaluate(dt_predictions)\n",
        "dt_f1 = f1_evaluator.evaluate(dt_predictions)\n",
        "dt_acc = accuracy_evaluator.evaluate(dt_predictions)\n",
        "dt_precision = precision_evaluator.evaluate(dt_predictions)\n",
        "\n",
        "# Random Forest metrics\n",
        "rf_auc = auc_evaluator.evaluate(rf_predictions)\n",
        "rf_f1 = f1_evaluator.evaluate(rf_predictions)\n",
        "rf_acc = accuracy_evaluator.evaluate(rf_predictions)\n",
        "rf_precision = precision_evaluator.evaluate(rf_predictions)\n"
      ],
      "metadata": {
        "id": "LdOOb-WLGzsg"
      },
      "execution_count": null,
      "outputs": []
    },
    {
      "cell_type": "code",
      "source": [
        "print(\"🔹 Logistic Regression\")\n",
        "print(f\"   AUC:       {lr_auc:.4f}\")\n",
        "print(f\"   Accuracy:  {lr_acc:.4f}\")\n",
        "print(f\"   F1 Score:  {lr_f1:.4f}\")\n",
        "print(f\"   Precision: {lr_precision:.4f}\")\n",
        "\n",
        "print(\"🔹 Decision Tree\")\n",
        "print(f\"   AUC:       {dt_auc:.4f}\")\n",
        "print(f\"   Accuracy:  {dt_acc:.4f}\")\n",
        "print(f\"   F1 Score:  {dt_f1:.4f}\")\n",
        "print(f\"   Precision: {dt_precision:.4f}\")\n",
        "\n",
        "print(\"🔹 Random Forest\")\n",
        "print(f\"   AUC:       {rf_auc:.4f}\")\n",
        "print(f\"   Accuracy:  {rf_acc:.4f}\")\n",
        "print(f\"   F1 Score:  {rf_f1:.4f}\")\n",
        "print(f\"   Precision: {rf_precision:.4f}\")\n"
      ],
      "metadata": {
        "colab": {
          "base_uri": "https://localhost:8080/"
        },
        "id": "D4TIxUM5HC-8",
        "outputId": "407c26c1-64e1-43b6-a029-fe72b011840e"
      },
      "execution_count": null,
      "outputs": [
        {
          "output_type": "stream",
          "name": "stdout",
          "text": [
            "🔹 Logistic Regression\n",
            "   AUC:       0.5255\n",
            "   Accuracy:  0.5725\n",
            "   F1 Score:  0.4218\n",
            "   Precision: 0.5546\n",
            "🔹 Decision Tree\n",
            "   AUC:       0.5287\n",
            "   Accuracy:  0.5776\n",
            "   F1 Score:  0.4538\n",
            "   Precision: 0.5757\n",
            "🔹 Random Forest\n",
            "   AUC:       0.5502\n",
            "   Accuracy:  0.5772\n",
            "   F1 Score:  0.4431\n",
            "   Precision: 0.5901\n"
          ]
        }
      ]
    }
  ]
}